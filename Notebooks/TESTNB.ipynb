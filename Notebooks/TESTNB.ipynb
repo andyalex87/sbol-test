{
 "cells": [
  {
   "cell_type": "markdown",
   "id": "e3199e29-c60d-4584-9e28-5df154ec5277",
   "metadata": {},
   "source": [
    "This is a test notebook."
   ]
  }
 ],
 "metadata": {
  "kernelspec": {
   "display_name": "Java",
   "language": "java",
   "name": "java"
  },
  "language_info": {
   "codemirror_mode": "java",
   "file_extension": ".jshell",
   "mimetype": "text/x-java-source",
   "name": "Java",
   "pygments_lexer": "java",
   "version": "17.0.3+7-Ubuntu-0ubuntu0.20.04.1"
  }
 },
 "nbformat": 4,
 "nbformat_minor": 5
}
